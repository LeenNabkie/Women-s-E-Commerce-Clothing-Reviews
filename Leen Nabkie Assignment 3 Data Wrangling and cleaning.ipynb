{
 "cells": [
  {
   "cell_type": "markdown",
   "metadata": {},
   "source": [
    "Data Wrangling and Cleaning\n",
    "\n",
    "1.1 Importing the library "
   ]
  },
  {
   "cell_type": "code",
   "execution_count": 1,
   "metadata": {},
   "outputs": [],
   "source": [
    "import pandas as pd\n",
    "import numpy as np\n",
    "import nltk\n",
    "import random\n",
    "import os\n",
    "from os import path"
   ]
  },
  {
   "cell_type": "code",
   "execution_count": 2,
   "metadata": {},
   "outputs": [
    {
     "name": "stdout",
     "output_type": "stream",
     "text": [
      "       Unnamed: 0  Clothing ID  Age  \\\n",
      "0               0          767   33   \n",
      "1               1         1080   34   \n",
      "2               2         1077   60   \n",
      "3               3         1049   50   \n",
      "4               4          847   47   \n",
      "5               5         1080   49   \n",
      "6               6          858   39   \n",
      "7               7          858   39   \n",
      "8               8         1077   24   \n",
      "9               9         1077   34   \n",
      "10             10         1077   53   \n",
      "11             11         1095   39   \n",
      "12             12         1095   53   \n",
      "13             13          767   44   \n",
      "14             14         1077   50   \n",
      "15             15         1065   47   \n",
      "16             16         1065   34   \n",
      "17             17          853   41   \n",
      "18             18         1120   32   \n",
      "19             19         1077   47   \n",
      "20             20          847   33   \n",
      "21             21         1080   55   \n",
      "22             22         1077   31   \n",
      "23             23         1077   34   \n",
      "24             24          847   55   \n",
      "25             25          697   31   \n",
      "26             26          949   33   \n",
      "27             27         1003   31   \n",
      "28             28          684   53   \n",
      "29             29            4   28   \n",
      "...           ...          ...  ...   \n",
      "23456       23456         1104   35   \n",
      "23457       23457          262   49   \n",
      "23458       23458          862   63   \n",
      "23459       23459         1094   57   \n",
      "23460       23460         1078   34   \n",
      "23461       23461          262   49   \n",
      "23462       23462          999   24   \n",
      "23463       23463          262   65   \n",
      "23464       23464         1104   42   \n",
      "23465       23465         1078   41   \n",
      "23466       23466         1104   34   \n",
      "23467       23467         1104   60   \n",
      "23468       23468          721   35   \n",
      "23469       23469          262   50   \n",
      "23470       23470         1104   39   \n",
      "23471       23471          262   31   \n",
      "23472       23472          855   32   \n",
      "23473       23473         1104   29   \n",
      "23474       23474         1104   32   \n",
      "23475       23475         1104   41   \n",
      "23476       23476          522   27   \n",
      "23477       23477         1094   39   \n",
      "23478       23478         1104   32   \n",
      "23479       23479         1005   42   \n",
      "23480       23480          862   35   \n",
      "23481       23481         1104   34   \n",
      "23482       23482          862   48   \n",
      "23483       23483         1104   31   \n",
      "23484       23484         1084   28   \n",
      "23485       23485         1104   52   \n",
      "\n",
      "                                                   Title  \\\n",
      "0                                                    NaN   \n",
      "1                                                    NaN   \n",
      "2                                Some major design flaws   \n",
      "3                                       My favorite buy!   \n",
      "4                                       Flattering shirt   \n",
      "5                                Not for the very petite   \n",
      "6                                   Cagrcoal shimmer fun   \n",
      "7                   Shimmer, surprisingly goes with lots   \n",
      "8                                             Flattering   \n",
      "9                                      Such a fun dress!   \n",
      "10          Dress looks like it's made of cheap material   \n",
      "11                                                   NaN   \n",
      "12                                            Perfect!!!   \n",
      "13                                              Runs big   \n",
      "14                   Pretty party dress with some issues   \n",
      "15                             Nice, but not for my body   \n",
      "16     You need to be at least average height, or taller   \n",
      "17                          Looks great with white pants   \n",
      "18                                   Super cute and cozy   \n",
      "19                               Stylish and comfortable   \n",
      "20                                     Cute, crisp shirt   \n",
      "21                                             I'm torn!   \n",
      "22                                Not what it looks like   \n",
      "23                           Like it, but don't love it.   \n",
      "24                                             Versatile   \n",
      "25                                            Falls flat   \n",
      "26                                   Huge disappointment   \n",
      "27                                   Loved, but returned   \n",
      "28                                        Great shirt!!!   \n",
      "29                                  Great layering piece   \n",
      "...                                                  ...   \n",
      "23456                Flattering and lovely sweater dress   \n",
      "23457                                           Adorable   \n",
      "23458                                                NaN   \n",
      "23459                                Perfect except slip   \n",
      "23460                                   Such high hopes!   \n",
      "23461         Comfortable but not super-flattering on me   \n",
      "23462                                           Its okay   \n",
      "23463                                        Comfy pants   \n",
      "23464                                        Compliments   \n",
      "23465                                       Falls nicely   \n",
      "23466                                     Cute and comfy   \n",
      "23467                                  Super flattering!   \n",
      "23468                                      Sweet stripes   \n",
      "23469                                     Comfy and cute   \n",
      "23470                                                NaN   \n",
      "23471                                 Awkward fit for me   \n",
      "23472                                   Perfectly drapey   \n",
      "23473                                      Perfect dress   \n",
      "23474                             Much better in person!   \n",
      "23475                                         Cute dress   \n",
      "23476                                            Cheeky!   \n",
      "23477                                         Entrancing   \n",
      "23478                                       Unflattering   \n",
      "23479                                  What a fun piece!   \n",
      "23480                                                NaN   \n",
      "23481                     Great dress for many occasions   \n",
      "23482                         Wish it was made of cotton   \n",
      "23483                              Cute, but see through   \n",
      "23484  Very cute dress, perfect for summer parties an...   \n",
      "23485                    Please make more like this one!   \n",
      "\n",
      "                                             Review Text  Rating  \\\n",
      "0      Absolutely wonderful - silky and sexy and comf...       4   \n",
      "1      Love this dress!  it's sooo pretty.  i happene...       5   \n",
      "2      I had such high hopes for this dress and reall...       3   \n",
      "3      I love, love, love this jumpsuit. it's fun, fl...       5   \n",
      "4      This shirt is very flattering to all due to th...       5   \n",
      "5      I love tracy reese dresses, but this one is no...       2   \n",
      "6      I aded this in my basket at hte last mintue to...       5   \n",
      "7      I ordered this in carbon for store pick up, an...       4   \n",
      "8      I love this dress. i usually get an xs but it ...       5   \n",
      "9      I'm 5\"5' and 125 lbs. i ordered the s petite t...       5   \n",
      "10     Dress runs small esp where the zipper area run...       3   \n",
      "11     This dress is perfection! so pretty and flatte...       5   \n",
      "12     More and more i find myself reliant on the rev...       5   \n",
      "13     Bought the black xs to go under the larkspur m...       5   \n",
      "14     This is a nice choice for holiday gatherings. ...       3   \n",
      "15     I took these out of the package and wanted the...       4   \n",
      "16     Material and color is nice.  the leg opening i...       3   \n",
      "17     Took a chance on this blouse and so glad i did...       5   \n",
      "18     A flattering, super cozy coat.  will work well...       5   \n",
      "19     I love the look and feel of this tulle dress. ...       5   \n",
      "20     If this product was in petite, i would get the...       4   \n",
      "21     I'm upset because for the price of the dress, ...       4   \n",
      "22     First of all, this is not pullover styling. th...       2   \n",
      "23     Cute little dress fits tts. it is a little hig...       3   \n",
      "24     I love this shirt because when i first saw it,...       5   \n",
      "25     Loved the material, but i didnt really look at...       3   \n",
      "26     I have been waiting for this sweater coat to s...       2   \n",
      "27     The colors weren't what i expected either. the...       4   \n",
      "28     I have several of goodhyouman shirts and i get...       5   \n",
      "29     This sweater is so comfy and classic - it bala...       5   \n",
      "...                                                  ...     ...   \n",
      "23456  I have been on a search for a dress with sleev...       5   \n",
      "23457  These pants are soft, fun print and comfy. the...       5   \n",
      "23458  This is my new favorite sweater. it is lightwe...       5   \n",
      "23459  This is my new favorite dress! my only complai...       4   \n",
      "23460  I purchased this for a very good price and i t...       3   \n",
      "23461  I tried these on at the store and the fit was ...       4   \n",
      "23462  The pattern of this skirt is adorable and look...       3   \n",
      "23463  These pants overall are very comfortable, but ...       4   \n",
      "23464  I wore this dress to work the other day and go...       5   \n",
      "23465  I bought this dress for work and post work hap...       5   \n",
      "23466  This dress has a great design and fits very we...       4   \n",
      "23467  I worry when i have an elastic waist, or somet...       5   \n",
      "23468  I love this little chemise! the adjustable str...       5   \n",
      "23469  My size was not available so based on reviews ...       4   \n",
      "23470                                                NaN       5   \n",
      "23471  Love the way these pants look in the pictures,...       4   \n",
      "23472  I saw the shirt on the retailer website and ne...       5   \n",
      "23473  Great quality and extremely flattering. bonus ...       5   \n",
      "23474  Yes, this is a great dress! i wasn't sure abou...       5   \n",
      "23475  Cute dress but not for me.  the waist is too h...       3   \n",
      "23476  These bottoms are very cute but defiantly chee...       4   \n",
      "23477  I'm so impressed with the beautiful color comb...       4   \n",
      "23478  I was surprised at the positive reviews for th...       1   \n",
      "23479  So i wasn't sure about ordering this skirt bec...       5   \n",
      "23480                                                NaN       5   \n",
      "23481  I was very happy to snag this dress at such a ...       5   \n",
      "23482  It reminds me of maternity clothes. soft, stre...       3   \n",
      "23483  This fit well, but the top was very see throug...       3   \n",
      "23484  I bought this dress for a wedding i have this ...       3   \n",
      "23485  This dress in a lovely platinum is feminine an...       5   \n",
      "\n",
      "       Recommended IND  Positive Feedback Count   Division Name  \\\n",
      "0                    1                        0       Initmates   \n",
      "1                    1                        4         General   \n",
      "2                    0                        0         General   \n",
      "3                    1                        0  General Petite   \n",
      "4                    1                        6         General   \n",
      "5                    0                        4         General   \n",
      "6                    1                        1  General Petite   \n",
      "7                    1                        4  General Petite   \n",
      "8                    1                        0         General   \n",
      "9                    1                        0         General   \n",
      "10                   0                       14         General   \n",
      "11                   1                        2  General Petite   \n",
      "12                   1                        2  General Petite   \n",
      "13                   1                        0       Initmates   \n",
      "14                   1                        1         General   \n",
      "15                   1                        3         General   \n",
      "16                   1                        2         General   \n",
      "17                   1                        0         General   \n",
      "18                   1                        0         General   \n",
      "19                   1                        0         General   \n",
      "20                   1                        2         General   \n",
      "21                   1                       14         General   \n",
      "22                   0                        7         General   \n",
      "23                   1                        0         General   \n",
      "24                   1                        0         General   \n",
      "25                   0                        0       Initmates   \n",
      "26                   0                        0         General   \n",
      "27                   1                        0         General   \n",
      "28                   1                        2       Initmates   \n",
      "29                   1                        0         General   \n",
      "...                ...                      ...             ...   \n",
      "23456                1                        3  General Petite   \n",
      "23457                1                        3  General Petite   \n",
      "23458                1                        0  General Petite   \n",
      "23459                1                        3  General Petite   \n",
      "23460                0                        0         General   \n",
      "23461                1                        1  General Petite   \n",
      "23462                1                        0         General   \n",
      "23463                1                        1  General Petite   \n",
      "23464                1                        3  General Petite   \n",
      "23465                1                        0         General   \n",
      "23466                1                        0  General Petite   \n",
      "23467                1                       23  General Petite   \n",
      "23468                1                        3  General Petite   \n",
      "23469                1                        0  General Petite   \n",
      "23470                1                        0  General Petite   \n",
      "23471                1                        0  General Petite   \n",
      "23472                1                        0         General   \n",
      "23473                1                        1  General Petite   \n",
      "23474                1                        0  General Petite   \n",
      "23475                1                        0  General Petite   \n",
      "23476                1                        0       Initmates   \n",
      "23477                1                        5  General Petite   \n",
      "23478                0                        0  General Petite   \n",
      "23479                1                        0  General Petite   \n",
      "23480                1                        0  General Petite   \n",
      "23481                1                        0  General Petite   \n",
      "23482                1                        0  General Petite   \n",
      "23483                0                        1  General Petite   \n",
      "23484                1                        2         General   \n",
      "23485                1                       22  General Petite   \n",
      "\n",
      "      Department Name Class Name  \n",
      "0            Intimate  Intimates  \n",
      "1             Dresses    Dresses  \n",
      "2             Dresses    Dresses  \n",
      "3             Bottoms      Pants  \n",
      "4                Tops    Blouses  \n",
      "5             Dresses    Dresses  \n",
      "6                Tops      Knits  \n",
      "7                Tops      Knits  \n",
      "8             Dresses    Dresses  \n",
      "9             Dresses    Dresses  \n",
      "10            Dresses    Dresses  \n",
      "11            Dresses    Dresses  \n",
      "12            Dresses    Dresses  \n",
      "13           Intimate  Intimates  \n",
      "14            Dresses    Dresses  \n",
      "15            Bottoms      Pants  \n",
      "16            Bottoms      Pants  \n",
      "17               Tops    Blouses  \n",
      "18            Jackets  Outerwear  \n",
      "19            Dresses    Dresses  \n",
      "20               Tops    Blouses  \n",
      "21            Dresses    Dresses  \n",
      "22            Dresses    Dresses  \n",
      "23            Dresses    Dresses  \n",
      "24               Tops    Blouses  \n",
      "25           Intimate     Lounge  \n",
      "26               Tops   Sweaters  \n",
      "27            Bottoms     Skirts  \n",
      "28           Intimate     Lounge  \n",
      "29               Tops   Sweaters  \n",
      "...               ...        ...  \n",
      "23456         Dresses    Dresses  \n",
      "23457        Intimate     Lounge  \n",
      "23458            Tops      Knits  \n",
      "23459         Dresses    Dresses  \n",
      "23460         Dresses    Dresses  \n",
      "23461        Intimate     Lounge  \n",
      "23462         Bottoms     Skirts  \n",
      "23463        Intimate     Lounge  \n",
      "23464         Dresses    Dresses  \n",
      "23465         Dresses    Dresses  \n",
      "23466         Dresses    Dresses  \n",
      "23467         Dresses    Dresses  \n",
      "23468        Intimate     Lounge  \n",
      "23469        Intimate     Lounge  \n",
      "23470         Dresses    Dresses  \n",
      "23471        Intimate     Lounge  \n",
      "23472            Tops      Knits  \n",
      "23473         Dresses    Dresses  \n",
      "23474         Dresses    Dresses  \n",
      "23475         Dresses    Dresses  \n",
      "23476        Intimate       Swim  \n",
      "23477         Dresses    Dresses  \n",
      "23478         Dresses    Dresses  \n",
      "23479         Bottoms     Skirts  \n",
      "23480            Tops      Knits  \n",
      "23481         Dresses    Dresses  \n",
      "23482            Tops      Knits  \n",
      "23483         Dresses    Dresses  \n",
      "23484         Dresses    Dresses  \n",
      "23485         Dresses    Dresses  \n",
      "\n",
      "[23486 rows x 11 columns]\n"
     ]
    }
   ],
   "source": [
    "# 1.2 Load the dataset\n",
    "df = pd.read_csv(\"../data/womens-ecommerce-clothing-reviews.zip\")\n",
    "print(df)"
   ]
  },
  {
   "cell_type": "markdown",
   "metadata": {},
   "source": [
    "• 2. Minor tasks"
   ]
  },
  {
   "cell_type": "code",
   "execution_count": 3,
   "metadata": {
    "scrolled": true
   },
   "outputs": [
    {
     "name": "stdout",
     "output_type": "stream",
     "text": [
      "Index(['Unnamed: 0', 'Clothing ID', 'Age', 'Title', 'Review Text', 'Rating',\n",
      "       'Recommended IND', 'Positive Feedback Count', 'Division Name',\n",
      "       'Department Name', 'Class Name'],\n",
      "      dtype='object')\n",
      "   Unnamed: 0  Clothing ID  Age                    Title  \\\n",
      "0           0          767   33                      NaN   \n",
      "1           1         1080   34                      NaN   \n",
      "2           2         1077   60  Some major design flaws   \n",
      "3           3         1049   50         My favorite buy!   \n",
      "4           4          847   47         Flattering shirt   \n",
      "\n",
      "                                         Review Text  Rating  Recommended IND  \\\n",
      "0  Absolutely wonderful - silky and sexy and comf...       4                1   \n",
      "1  Love this dress!  it's sooo pretty.  i happene...       5                1   \n",
      "2  I had such high hopes for this dress and reall...       3                0   \n",
      "3  I love, love, love this jumpsuit. it's fun, fl...       5                1   \n",
      "4  This shirt is very flattering to all due to th...       5                1   \n",
      "\n",
      "   Positive Feedback Count   Division Name Department Name Class Name  \n",
      "0                        0       Initmates        Intimate  Intimates  \n",
      "1                        4         General         Dresses    Dresses  \n",
      "2                        0         General         Dresses    Dresses  \n",
      "3                        0  General Petite         Bottoms      Pants  \n",
      "4                        6         General            Tops    Blouses  \n",
      "         Unnamed: 0   Clothing ID           Age        Rating  \\\n",
      "count  23486.000000  23486.000000  23486.000000  23486.000000   \n",
      "mean   11742.500000    918.118709     43.198544      4.196032   \n",
      "std     6779.968547    203.298980     12.279544      1.110031   \n",
      "min        0.000000      0.000000     18.000000      1.000000   \n",
      "25%     5871.250000    861.000000     34.000000      4.000000   \n",
      "50%    11742.500000    936.000000     41.000000      5.000000   \n",
      "75%    17613.750000   1078.000000     52.000000      5.000000   \n",
      "max    23485.000000   1205.000000     99.000000      5.000000   \n",
      "\n",
      "       Recommended IND  Positive Feedback Count  \n",
      "count     23486.000000             23486.000000  \n",
      "mean          0.822362                 2.535936  \n",
      "std           0.382216                 5.702202  \n",
      "min           0.000000                 0.000000  \n",
      "25%           1.000000                 0.000000  \n",
      "50%           1.000000                 1.000000  \n",
      "75%           1.000000                 3.000000  \n",
      "max           1.000000               122.000000  \n",
      "\n"
     ]
    }
   ],
   "source": [
    "# 2.1 Summarizing my first data for inspection\n",
    "print(df.columns)\n",
    "print(df.head())\n",
    "print(df.describe())\n",
    "print('')"
   ]
  },
  {
   "cell_type": "code",
   "execution_count": 4,
   "metadata": {},
   "outputs": [
    {
     "name": "stdout",
     "output_type": "stream",
     "text": [
      "<class 'pandas.core.frame.DataFrame'>\n",
      "RangeIndex: 23486 entries, 0 to 23485\n",
      "Data columns (total 11 columns):\n",
      "Unnamed: 0                 23486 non-null int64\n",
      "Clothing ID                23486 non-null int64\n",
      "Age                        23486 non-null int64\n",
      "Title                      19676 non-null object\n",
      "Review Text                22641 non-null object\n",
      "Rating                     23486 non-null int64\n",
      "Recommended IND            23486 non-null int64\n",
      "Positive Feedback Count    23486 non-null int64\n",
      "Division Name              23472 non-null object\n",
      "Department Name            23472 non-null object\n",
      "Class Name                 23472 non-null object\n",
      "dtypes: int64(6), object(5)\n",
      "memory usage: 2.0+ MB\n"
     ]
    }
   ],
   "source": [
    "df.info()"
   ]
  },
  {
   "cell_type": "code",
   "execution_count": 5,
   "metadata": {},
   "outputs": [
    {
     "name": "stdout",
     "output_type": "stream",
     "text": [
      "Index(['Unnamed: 0', 'Clothing ID', 'Age', 'Title', 'Review Text', 'Rating',\n",
      "       'Recommendation', 'Positive Feedback Count', 'Division Name',\n",
      "       'Product Category', 'clothes type'],\n",
      "      dtype='object')\n"
     ]
    }
   ],
   "source": [
    "# 2.2 Fixing column name\n",
    "df.rename(columns={'Recommended IND': 'Recommendation','Department Name': 'Product Category', 'Class Name':'clothes type'}, inplace=True)\n",
    " \n",
    "print(df.columns)"
   ]
  },
  {
   "cell_type": "code",
   "execution_count": 6,
   "metadata": {},
   "outputs": [],
   "source": [
    "# 2.3 Removing the unused columns\n",
    "df.drop(df.columns[0],inplace=True, axis=1)"
   ]
  },
  {
   "cell_type": "code",
   "execution_count": 7,
   "metadata": {},
   "outputs": [],
   "source": [
    "# 2.4 Converting data types:\n",
    "#df[['Title','Review Text']] = df[['Title','Review Text']].astype(str)\n",
    "# I will not run it because converting them to string effect on calculating the missing values so python could not count the missing value in the Title and Review Text, so that I keep them as an object data type\n",
    "# 2.5 Removing duplicates: not applicaple"
   ]
  },
  {
   "cell_type": "markdown",
   "metadata": {},
   "source": [
    "• 3. Major tasks"
   ]
  },
  {
   "cell_type": "markdown",
   "metadata": {},
   "source": [
    "◦ 3.1 Dealing with missing values"
   ]
  },
  {
   "cell_type": "code",
   "execution_count": 8,
   "metadata": {
    "scrolled": true
   },
   "outputs": [
    {
     "data": {
      "text/plain": [
       "Clothing ID                   0\n",
       "Age                           0\n",
       "Title                      3810\n",
       "Review Text                 845\n",
       "Rating                        0\n",
       "Recommendation                0\n",
       "Positive Feedback Count       0\n",
       "Division Name                14\n",
       "Product Category             14\n",
       "clothes type                 14\n",
       "dtype: int64"
      ]
     },
     "execution_count": 8,
     "metadata": {},
     "output_type": "execute_result"
    }
   ],
   "source": [
    "# check if there is missing values\n",
    "df.isnull().sum()"
   ]
  },
  {
   "cell_type": "markdown",
   "metadata": {},
   "source": [
    "This dataset has 23486 entries and 9 columns. Some of the entries are missing like Title, Review Text, Division Name, Product Category, and clothes types."
   ]
  },
  {
   "cell_type": "code",
   "execution_count": 9,
   "metadata": {},
   "outputs": [],
   "source": [
    "# Delete missing values from the following variables\n",
    "for x in [\"Review Text\",\"Division Name\",\"Product Category\",\"clothes type\"]:\n",
    "    df = df[df[x].notnull()]"
   ]
  },
  {
   "cell_type": "code",
   "execution_count": 10,
   "metadata": {},
   "outputs": [],
   "source": [
    "# Or I can deal with those missing values since the missing value percentage is less in variables, we are replacing it with mean and mode.\n",
    "for column in df.columns:\n",
    "    df[column].fillna(df[column].mode()[0], inplace=True)"
   ]
  },
  {
   "cell_type": "code",
   "execution_count": 11,
   "metadata": {},
   "outputs": [
    {
     "name": "stdout",
     "output_type": "stream",
     "text": [
      "39    1225\n",
      "35     851\n",
      "36     799\n",
      "34     765\n",
      "38     751\n",
      "37     726\n",
      "41     717\n",
      "33     698\n",
      "46     691\n",
      "42     625\n",
      "48     605\n",
      "44     596\n",
      "32     594\n",
      "40     584\n",
      "43     554\n",
      "31     549\n",
      "47     544\n",
      "53     536\n",
      "45     511\n",
      "29     503\n",
      "49     473\n",
      "56     462\n",
      "52     421\n",
      "26     413\n",
      "28     406\n",
      "54     390\n",
      "51     385\n",
      "50     384\n",
      "30     382\n",
      "57     350\n",
      "      ... \n",
      "69     112\n",
      "20     105\n",
      "21      98\n",
      "70      88\n",
      "74      50\n",
      "71      49\n",
      "72      45\n",
      "83      43\n",
      "73      40\n",
      "19      40\n",
      "75      25\n",
      "77      18\n",
      "79      15\n",
      "78      15\n",
      "82      13\n",
      "80      10\n",
      "76      10\n",
      "85       6\n",
      "84       6\n",
      "81       5\n",
      "89       5\n",
      "18       4\n",
      "87       4\n",
      "91       4\n",
      "94       3\n",
      "93       2\n",
      "90       2\n",
      "86       2\n",
      "99       2\n",
      "92       1\n",
      "Name: Age, Length: 77, dtype: int64\n",
      "mean 43.282879618172174\n",
      "std 12.327903678330044\n"
     ]
    },
    {
     "data": {
      "text/plain": [
       "<Figure size 640x480 with 1 Axes>"
      ]
     },
     "metadata": {},
     "output_type": "display_data"
    }
   ],
   "source": [
    "# 3.2 Dealing with Outliers\n",
    "# Age:\n",
    "import matplotlib.pyplot as plt\n",
    "print(df['Age'].value_counts())\n",
    "print('mean', np.mean(df['Age']))\n",
    "print('std', np.std(df['Age']))\n",
    "plt.hist(df['Age'], bins=20)\n",
    "plt.show()"
   ]
  },
  {
   "cell_type": "code",
   "execution_count": 12,
   "metadata": {},
   "outputs": [],
   "source": [
    "# all age after 85 are considered outliers, but I don't know how to remove them...sorry"
   ]
  },
  {
   "cell_type": "markdown",
   "metadata": {},
   "source": [
    "For cleaning the text: First, I will concatenate the Title and the Review Text together, after that I will get the list of most popular words, then I will apply some text pre-processing techniques like \n",
    "    Make text all lower case\n",
    "    Remove punctuation\n",
    "    Remove spaces at the begenning and at the end\n",
    "    Tokenize text\n",
    "    Remove stop words\n",
    "    Stemming\n",
    "    Lemmatization"
   ]
  },
  {
   "cell_type": "code",
   "execution_count": 13,
   "metadata": {},
   "outputs": [
    {
     "data": {
      "text/plain": [
       "\"Dress looks like it's made of cheap material - Dress runs small esp where the zipper area runs. i ordered the sp which typically fits me and it was very tight! the material on the top looks and feels very cheap that even just pulling on it will cause it to rip the fabric. pretty disappointed as it was going to be my christmas dress this year! needless to say it will be going back.\""
      ]
     },
     "execution_count": 13,
     "metadata": {},
     "output_type": "execute_result"
    }
   ],
   "source": [
    "# concatenate the Title and the Review Text\n",
    "df['reviews'] = df['Title'] + ' - ' + df['Review Text']\n",
    "corpus = list(df['reviews'].values)\n",
    "reviews = corpus.copy()\n",
    "reviews[10]"
   ]
  },
  {
   "cell_type": "code",
   "execution_count": 14,
   "metadata": {
    "scrolled": true
   },
   "outputs": [
    {
     "name": "stdout",
     "output_type": "stream",
     "text": [
      "[('.', 89618), ('the', 75813), ('i', 57715), ('it', 52548), ('and', 50736), (',', 50218), ('a', 43418), ('is', 31466), ('-', 25516), ('to', 24978), ('!', 22436), ('this', 22176), ('in', 21089), ('but', 18042), ('on', 15501), ('for', 15026), ('of', 13683), ('with', 13081), ('was', 12952), ('dress', 12067), ('so', 11951), ('my', 11061), ('not', 10380), ('that', 10049), ('I', 9604), ('size', 8834), ('top', 8491), (\"n't\", 8435), ('love', 8385), ('have', 8307)]\n"
     ]
    },
    {
     "data": {
      "image/png": "[encoded data removed]",
      "text/plain": [
       "<Figure size 432x288 with 1 Axes>"
      ]
     },
     "metadata": {
      "needs_background": "light"
     },
     "output_type": "display_data"
    }
   ],
   "source": [
    "# get the list of most popular words\n",
    "# But before that I have to import the regular expression library and many others\n",
    "import re\n",
    "import itertools\n",
    "import string\n",
    "\n",
    "import nltk\n",
    "from nltk.tokenize import RegexpTokenizer\n",
    "from nltk.tokenize import word_tokenize\n",
    "from nltk.corpus import stopwords\n",
    "from nltk.stem import PorterStemmer\n",
    "from nltk.probability import FreqDist\n",
    "\n",
    "\n",
    "\n",
    "reviews_chart = reviews.copy()\n",
    "for i in range(len(reviews_chart)):\n",
    "    reviews_chart[i] = word_tokenize(reviews_chart[i])\n",
    "    \n",
    "# merge a list of lists\n",
    "all_reviews = list(itertools.chain.from_iterable(reviews_chart))\n",
    "\n",
    "# frequency distribution\n",
    "fdist = FreqDist(all_reviews)\n",
    "print(fdist.most_common(30))\n",
    "\n",
    "# Frequency Distribution Plot\n",
    "import matplotlib.pyplot as plt\n",
    "fdist.plot(30,cumulative=False)\n",
    "plt.show()"
   ]
  },
  {
   "cell_type": "markdown",
   "metadata": {},
   "source": [
    "Unfortunatly, all the common words I've gotten are nonmeaningfull, so that I will Apply a first round of text cleaning techniques\n"
   ]
  },
  {
   "cell_type": "code",
   "execution_count": 15,
   "metadata": {},
   "outputs": [],
   "source": [
    "# prepare text data\n",
    "\n",
    "# firstly, I concatenate all review text in to a string and also lower all of them. They are separated by ' '\n",
    "all_words = df['reviews'].str.lower().str.cat(sep = ' ')\n",
    "\n",
    "# removes punctuation, numbers and returns list of words\n",
    "all_words = re.sub('[^A-Za-z]+', ' ', all_words)\n",
    "\n",
    "# remove all stopwords and numeric from the text\n",
    "stop_words = set(stopwords.words('english'))\n",
    "tokens = nltk.word_tokenize(all_words)\n",
    "no_stop_words = []\n",
    "for w in tokens:\n",
    "    if (w not in stop_words) and (w.isdigit() is False):\n",
    "        no_stop_words.append(w)"
   ]
  },
  {
   "cell_type": "code",
   "execution_count": 16,
   "metadata": {},
   "outputs": [
    {
     "name": "stderr",
     "output_type": "stream",
     "text": [
      "IOPub data rate exceeded.\n",
      "The notebook server will temporarily stop sending output\n",
      "to the client in order to avoid crashing it.\n",
      "To change this limit, set the config variable\n",
      "`--NotebookApp.iopub_data_rate_limit`.\n",
      "\n",
      "Current values:\n",
      "NotebookApp.iopub_data_rate_limit=1000000.0 (bytes/sec)\n",
      "NotebookApp.rate_limit_window=3.0 (secs)\n",
      "\n"
     ]
    }
   ],
   "source": [
    "# Stemming\n",
    "from nltk.stem import PorterStemmer\n",
    "\n",
    "stemmer = PorterStemmer()\n",
    "\n",
    "for i in range(5):\n",
    "    stemmed_words=[]\n",
    "    for word in no_stop_words:\n",
    "        stemmed_words.append(stemmer.stem(word))\n",
    "\n",
    "    print('Original senstence:', no_stop_words)\n",
    "    print('Stemmed sentence:', stemmed_words)"
   ]
  },
  {
   "cell_type": "code",
   "execution_count": 17,
   "metadata": {
    "scrolled": true
   },
   "outputs": [
    {
     "name": "stdout",
     "output_type": "stream",
     "text": [
      "[('love', 16783), ('dress', 13862), ('fit', 12243), ('size', 11042), ('look', 9620), ('top', 9559), ('wear', 8209), ('like', 8123), ('great', 7907), ('color', 7791), ('fabric', 5182), ('would', 5133), ('small', 5090), ('order', 5053), ('beauti', 4978), ('perfect', 4725), ('cute', 4602), ('nice', 4362), ('flatter', 4198), ('realli', 4074), ('littl', 3928), ('one', 3856), ('comfort', 3842), ('soft', 3838), ('tri', 3662), ('well', 3492), ('shirt', 3457), ('back', 3341), ('run', 3317), ('sweater', 3187)]\n"
     ]
    },
    {
     "data": {
      "image/png": "[encoded data removed]",
      "text/plain": [
       "<Figure size 432x288 with 1 Axes>"
      ]
     },
     "metadata": {
      "needs_background": "light"
     },
     "output_type": "display_data"
    }
   ],
   "source": [
    "# After cleaning the text, I will rereview the chart to take a look on what I get\n",
    "reviews_chart = stemmed_words.copy()\n",
    "for i in range(len(reviews_chart)):\n",
    "    reviews_chart[i] = word_tokenize(reviews_chart[i])\n",
    "    \n",
    "# merge a list of lists\n",
    "all_reviews = list(itertools.chain.from_iterable(reviews_chart))\n",
    "\n",
    "# frequency distribution\n",
    "fdist = FreqDist(all_reviews)\n",
    "print(fdist.most_common(30))\n",
    "\n",
    "# Frequency Distribution Plot\n",
    "import matplotlib.pyplot as plt\n",
    "fdist.plot(30,cumulative=False)\n",
    "plt.show()"
   ]
  },
  {
   "cell_type": "code",
   "execution_count": 18,
   "metadata": {
    "scrolled": true
   },
   "outputs": [
    {
     "name": "stdout",
     "output_type": "stream",
     "text": [
      "<class 'pandas.core.frame.DataFrame'>\n",
      "Int64Index: 22628 entries, 0 to 23485\n",
      "Data columns (total 11 columns):\n",
      "Clothing ID                22628 non-null int64\n",
      "Age                        22628 non-null int64\n",
      "Title                      22628 non-null object\n",
      "Review Text                22628 non-null object\n",
      "Rating                     22628 non-null int64\n",
      "Recommendation             22628 non-null int64\n",
      "Positive Feedback Count    22628 non-null int64\n",
      "Division Name              22628 non-null object\n",
      "Product Category           22628 non-null object\n",
      "clothes type               22628 non-null object\n",
      "reviews                    22628 non-null object\n",
      "dtypes: int64(5), object(6)\n",
      "memory usage: 2.1+ MB\n"
     ]
    }
   ],
   "source": [
    "df.info()"
   ]
  },
  {
   "cell_type": "code",
   "execution_count": 19,
   "metadata": {},
   "outputs": [],
   "source": [
    "# Let's pickle the cleaned data and the CountVectorizer object in order to use it later on with EDA\n",
    "#df.to_pickle('df.pkl')\n",
    "#pickle.dump(cv, open(\"cv.pkl\", \"wb\"))\n",
    "#sorry, something wrong so that I will continue working on the same file"
   ]
  },
  {
   "cell_type": "code",
   "execution_count": 20,
   "metadata": {
    "scrolled": true
   },
   "outputs": [
    {
     "name": "stdout",
     "output_type": "stream",
     "text": [
      "/home/leen/anaconda3/bin/python\n"
     ]
    }
   ],
   "source": [
    "import sys\n",
    "print(sys.executable)"
   ]
  },
  {
   "cell_type": "code",
   "execution_count": 21,
   "metadata": {},
   "outputs": [
    {
     "ename": "ModuleNotFoundError",
     "evalue": "No module named 'wordcloud'",
     "output_type": "error",
     "traceback": [
      "\u001b[0;31m---------------------------------------------------------------------------\u001b[0m",
      "\u001b[0;31mModuleNotFoundError\u001b[0m                       Traceback (most recent call last)",
      "\u001b[0;32m<ipython-input-21-5221e8f40fa4>\u001b[0m in \u001b[0;36m<module>\u001b[0;34m\u001b[0m\n\u001b[0;32m----> 1\u001b[0;31m \u001b[0;32mfrom\u001b[0m \u001b[0mwordcloud\u001b[0m \u001b[0;32mimport\u001b[0m \u001b[0mWordCloud\u001b[0m\u001b[0;34m\u001b[0m\u001b[0;34m\u001b[0m\u001b[0m\n\u001b[0m\u001b[1;32m      2\u001b[0m \u001b[0mwordcloud\u001b[0m \u001b[0;34m=\u001b[0m \u001b[0mWordCloud\u001b[0m\u001b[0;34m(\u001b[0m\u001b[0mmax_words\u001b[0m\u001b[0;34m=\u001b[0m\u001b[0;36m200\u001b[0m\u001b[0;34m,\u001b[0m \u001b[0mbackground_color\u001b[0m\u001b[0;34m=\u001b[0m\u001b[0;34m\"white\"\u001b[0m\u001b[0;34m)\u001b[0m\u001b[0;34m.\u001b[0m\u001b[0mgenerate\u001b[0m\u001b[0;34m(\u001b[0m\u001b[0mall_words\u001b[0m\u001b[0;34m)\u001b[0m\u001b[0;34m\u001b[0m\u001b[0;34m\u001b[0m\u001b[0m\n\u001b[1;32m      3\u001b[0m \u001b[0;31m# Display the generated image\u001b[0m\u001b[0;34m\u001b[0m\u001b[0;34m\u001b[0m\u001b[0;34m\u001b[0m\u001b[0m\n\u001b[1;32m      4\u001b[0m \u001b[0mplt\u001b[0m\u001b[0;34m.\u001b[0m\u001b[0mimshow\u001b[0m\u001b[0;34m(\u001b[0m\u001b[0mwordcloud\u001b[0m\u001b[0;34m,\u001b[0m \u001b[0minterpolation\u001b[0m\u001b[0;34m=\u001b[0m\u001b[0;34m'bilinear'\u001b[0m\u001b[0;34m)\u001b[0m\u001b[0;34m\u001b[0m\u001b[0;34m\u001b[0m\u001b[0m\n\u001b[1;32m      5\u001b[0m \u001b[0mplt\u001b[0m\u001b[0;34m.\u001b[0m\u001b[0maxis\u001b[0m\u001b[0;34m(\u001b[0m\u001b[0;34m\"off\"\u001b[0m\u001b[0;34m)\u001b[0m\u001b[0;34m\u001b[0m\u001b[0;34m\u001b[0m\u001b[0m\n",
      "\u001b[0;31mModuleNotFoundError\u001b[0m: No module named 'wordcloud'"
     ]
    }
   ],
   "source": [
    "from wordcloud import WordCloud\n",
    "wordcloud = WordCloud(max_words=200, background_color=\"white\").generate(all_words)\n",
    "# Display the generated image\n",
    "plt.imshow(wordcloud, interpolation='bilinear')\n",
    "plt.axis(\"off\")\n",
    "plt.margins(x=0, y=0)\n",
    "plt.show()"
   ]
  },
  {
   "cell_type": "markdown",
   "metadata": {},
   "source": [
    "I've tried many ways to solve this error but without avail"
   ]
  },
  {
   "cell_type": "markdown",
   "metadata": {},
   "source": [
    "Exploratory Data Analysis EDA\n",
    "\n",
    "After I have finished cleaning and wrangling my dataset, the next step is doing exploratort data analysis and see if what I am looking at makes sense. \n",
    "\n",
    "So that, I am going to try finding answers for the following debate:\n",
    "\n",
    "   1- Recognition the most popular items : (Those that appear more than 'n' times) that customers have commonly purchased and reviewed. \n",
    "   2- Understanding customer sentiments (positive, negative, or neutral sentiment) in order to do un effective marketing strategies; moreover, give an idea on how to improve the product & service."
   ]
  },
  {
   "cell_type": "code",
   "execution_count": 22,
   "metadata": {
    "scrolled": true
   },
   "outputs": [
    {
     "data": {
      "image/png": "[encoded data removed]",
      "text/plain": [
       "<Figure size 1008x648 with 1 Axes>"
      ]
     },
     "metadata": {
      "needs_background": "light"
     },
     "output_type": "display_data"
    }
   ],
   "source": [
    "# 1- The most popular item:\n",
    "\n",
    "fig = plt.figure(figsize=(14, 9))\n",
    "plt.xticks(rotation=45)\n",
    "plt.xlabel('item ID')\n",
    "plt.ylabel('popularity')\n",
    "plt.title(\"Top 50 Popular Items\")\n",
    "df['Clothing ID'].value_counts()[:50].plot(kind='bar');"
   ]
  },
  {
   "cell_type": "code",
   "execution_count": null,
   "metadata": {},
   "outputs": [],
   "source": [
    "# 2- Sentiment analysis:\n",
    "# The sentiment function of textblob returns two properties, polarity, and subjectivity.\n",
    "\n",
    "# Polarity is float which lies in the range of [-1,1] where 1 means positive statement and -1 means a negative statement. \n",
    "# Subjective sentences generally refer to personal opinion, emotion or judgment whereas objective refers to factual information. Subjectivity is also a float which lies in the range of [0,1].\n",
    "\n",
    "#Let’s check the sentiment of our customers:\n",
    "from textblob import TextBlob\n",
    "\n",
    "print ('stemmed_words')\n",
    "blob.sentiment\n",
    "\n",
    "# Defining a sentiment analyser function\n",
    "#def sentiment_analyser(text):\n",
    "  #  return text.apply(lambda Text: pd.Series(TextBlob(Text).sentiment.polarity))\n",
    "\n",
    "# Applying function to reviews\n",
    "#df['Polarity'] = sentiment_analyser(df['reviews'])\n",
    "#data.head(10)\n"
   ]
  },
  {
   "cell_type": "markdown",
   "metadata": {},
   "source": [
    "It seems that I have problem defining models, even I tried writing this:  pip install -U textblob   on my terminal, then: python -m textblob.download_corpora    but doesn't work."
   ]
  },
  {
   "cell_type": "code",
   "execution_count": 23,
   "metadata": {},
   "outputs": [
    {
     "name": "stdout",
     "output_type": "stream",
     "text": [
      "showing info https://raw.githubusercontent.com/nltk/nltk_data/gh-pages/index.xml\n"
     ]
    },
    {
     "ename": "NameError",
     "evalue": "name 'SentimentIntensityAnalyzer' is not defined",
     "output_type": "error",
     "traceback": [
      "\u001b[0;31m---------------------------------------------------------------------------\u001b[0m",
      "\u001b[0;31mNameError\u001b[0m                                 Traceback (most recent call last)",
      "\u001b[0;32m<ipython-input-23-81d7d8cd1f21>\u001b[0m in \u001b[0;36m<module>\u001b[0;34m\u001b[0m\n\u001b[1;32m      8\u001b[0m     \u001b[0mss\u001b[0m \u001b[0;34m=\u001b[0m \u001b[0msid\u001b[0m\u001b[0;34m.\u001b[0m\u001b[0mpolarity_scores\u001b[0m\u001b[0;34m(\u001b[0m\u001b[0msentence\u001b[0m\u001b[0;34m)\u001b[0m\u001b[0;34m\u001b[0m\u001b[0;34m\u001b[0m\u001b[0m\n\u001b[1;32m      9\u001b[0m \u001b[0;34m\u001b[0m\u001b[0m\n\u001b[0;32m---> 10\u001b[0;31m \u001b[0msid\u001b[0m \u001b[0;34m=\u001b[0m \u001b[0mSentimentIntensityAnalyzer\u001b[0m\u001b[0;34m(\u001b[0m\u001b[0;34m)\u001b[0m\u001b[0;34m\u001b[0m\u001b[0;34m\u001b[0m\u001b[0m\n\u001b[0m\u001b[1;32m     11\u001b[0m \u001b[0;34m\u001b[0m\u001b[0m\n\u001b[1;32m     12\u001b[0m \u001b[0mnum_records\u001b[0m \u001b[0;34m=\u001b[0m \u001b[0mstemmed_words\u001b[0m\u001b[0;34m.\u001b[0m\u001b[0mshape\u001b[0m\u001b[0;34m[\u001b[0m\u001b[0;36m0\u001b[0m\u001b[0;34m]\u001b[0m\u001b[0;34m\u001b[0m\u001b[0;34m\u001b[0m\u001b[0m\n",
      "\u001b[0;31mNameError\u001b[0m: name 'SentimentIntensityAnalyzer' is not defined"
     ]
    }
   ],
   "source": [
    "import nltk\n",
    "nltk.download()\n",
    "\n",
    "from nltk.sentiment.vader import SentimentIntensityAnalyzer as SIA\n",
    "sentences=[\"stemmed_words\"]\n",
    "sid = SIA()\n",
    "for sentence in sentences:\n",
    "    ss = sid.polarity_scores(sentence) \n",
    "\n",
    "sid = SentimentIntensityAnalyzer()\n",
    "\n",
    "num_records = stemmed_words.shape[0]\n",
    "ones_array = np.ones(num_records)\n",
    "    \n",
    "stemmed_words['Compound score'] = ones_array\n",
    "\n",
    "for i in range(len(stemmed_words['Filtered Reviews'])):\n",
    "\n",
    "    element = stemmed_words['Filtered Reviews'].iloc[i][0]\n",
    "#     print(element)\n",
    "    score = sid.polarity_scores(element)\n",
    "    compound = score['compound']\n",
    "#     print(compound)\n",
    "    stemmed_words['Compound score'].iloc[i] = compound\n",
    "stemmed_words.head()"
   ]
  },
  {
   "cell_type": "code",
   "execution_count": 24,
   "metadata": {},
   "outputs": [
    {
     "name": "stderr",
     "output_type": "stream",
     "text": [
      "[nltk_data] Downloading package vader_lexicon to\n",
      "[nltk_data]     /home/leen/nltk_data...\n",
      "[nltk_data]   Package vader_lexicon is already up-to-date!\n"
     ]
    }
   ],
   "source": [
    "import nltk\n",
    "nltk.download('vader_lexicon')\n",
    "from nltk.sentiment.vader import SentimentIntensityAnalyzer\n",
    "\n",
    "# Pre-Processing\n",
    "SIA = SentimentIntensityAnalyzer()\n",
    "df['reviews']= df['reviews'].astype(str)\n",
    "\n",
    "# Applying Model, Variable Creation\n",
    "df['Polarity Score'] = df['reviews'].apply(lambda x: SIA.polarity_scores(x)['compound'])\n",
    "df['Neutral Score'] = df['reviews'].apply(lambda x: SIA.polarity_scores(x)['neu'])\n",
    "df['Negative Score'] = df['reviews'].apply(lambda x: SIA.polarity_scores(x)['neg'])\n",
    "df['Positive Score'] = df['reviews'].apply(lambda x: SIA.polarity_scores(x)['pos'])\n",
    "\n",
    "# Converting 0 to 1 Decimal Score to a Categorical Variable\n",
    "df['Sentiment'] = ''\n",
    "df.loc[df['Polarity Score'] > 0, 'Sentiment'] = 'Positive'\n",
    "df.loc[df['Polarity Score'] == 0, 'Sentiment'] = 'Neutral'\n",
    "df.loc[df['Polarity Score'] < 0, 'Sentiment'] = 'Negative'"
   ]
  },
  {
   "cell_type": "code",
   "execution_count": 25,
   "metadata": {},
   "outputs": [
    {
     "ename": "NameError",
     "evalue": "name 'percentstandardize_barplot' is not defined",
     "output_type": "error",
     "traceback": [
      "\u001b[0;31m---------------------------------------------------------------------------\u001b[0m",
      "\u001b[0;31mNameError\u001b[0m                                 Traceback (most recent call last)",
      "\u001b[0;32m<ipython-input-25-674cba301794>\u001b[0m in \u001b[0;36m<module>\u001b[0;34m\u001b[0m\n\u001b[1;32m      8\u001b[0m \u001b[0maxes\u001b[0m\u001b[0;34m[\u001b[0m\u001b[0;36m0\u001b[0m\u001b[0;34m]\u001b[0m\u001b[0;34m.\u001b[0m\u001b[0mset_title\u001b[0m\u001b[0;34m(\u001b[0m\u001b[0;34m'Occurence of {}\\nby {}'\u001b[0m\u001b[0;34m.\u001b[0m\u001b[0mformat\u001b[0m\u001b[0;34m(\u001b[0m\u001b[0mxvar\u001b[0m\u001b[0;34m,\u001b[0m \u001b[0mhuevar\u001b[0m\u001b[0;34m)\u001b[0m\u001b[0;34m)\u001b[0m\u001b[0;34m\u001b[0m\u001b[0;34m\u001b[0m\u001b[0m\n\u001b[1;32m      9\u001b[0m \u001b[0maxes\u001b[0m\u001b[0;34m[\u001b[0m\u001b[0;36m0\u001b[0m\u001b[0;34m]\u001b[0m\u001b[0;34m.\u001b[0m\u001b[0mset_ylabel\u001b[0m\u001b[0;34m(\u001b[0m\u001b[0;34m'Count'\u001b[0m\u001b[0;34m)\u001b[0m\u001b[0;34m\u001b[0m\u001b[0;34m\u001b[0m\u001b[0m\n\u001b[0;32m---> 10\u001b[0;31m \u001b[0mpercentstandardize_barplot\u001b[0m\u001b[0;34m(\u001b[0m\u001b[0mx\u001b[0m\u001b[0;34m=\u001b[0m\u001b[0mxvar\u001b[0m\u001b[0;34m,\u001b[0m \u001b[0my\u001b[0m\u001b[0;34m=\u001b[0m\u001b[0;34m'Percentage'\u001b[0m\u001b[0;34m,\u001b[0m \u001b[0mhue\u001b[0m\u001b[0;34m=\u001b[0m\u001b[0mhuevar\u001b[0m\u001b[0;34m,\u001b[0m \u001b[0mdata\u001b[0m\u001b[0;34m=\u001b[0m\u001b[0mdf\u001b[0m\u001b[0;34m,\u001b[0m \u001b[0max\u001b[0m\u001b[0;34m=\u001b[0m\u001b[0maxes\u001b[0m\u001b[0;34m[\u001b[0m\u001b[0;36m1\u001b[0m\u001b[0;34m]\u001b[0m\u001b[0;34m)\u001b[0m\u001b[0;34m\u001b[0m\u001b[0;34m\u001b[0m\u001b[0m\n\u001b[0m\u001b[1;32m     11\u001b[0m \u001b[0maxes\u001b[0m\u001b[0;34m[\u001b[0m\u001b[0;36m1\u001b[0m\u001b[0;34m]\u001b[0m\u001b[0;34m.\u001b[0m\u001b[0mset_title\u001b[0m\u001b[0;34m(\u001b[0m\u001b[0;34m'Percentage Normalized Occurence of {}\\nby {}'\u001b[0m\u001b[0;34m.\u001b[0m\u001b[0mformat\u001b[0m\u001b[0;34m(\u001b[0m\u001b[0mxvar\u001b[0m\u001b[0;34m,\u001b[0m \u001b[0mhuevar\u001b[0m\u001b[0;34m)\u001b[0m\u001b[0;34m)\u001b[0m\u001b[0;34m\u001b[0m\u001b[0;34m\u001b[0m\u001b[0m\n\u001b[1;32m     12\u001b[0m \u001b[0maxes\u001b[0m\u001b[0;34m[\u001b[0m\u001b[0;36m1\u001b[0m\u001b[0;34m]\u001b[0m\u001b[0;34m.\u001b[0m\u001b[0mset_ylabel\u001b[0m\u001b[0;34m(\u001b[0m\u001b[0;34m'% Percentage by {}'\u001b[0m\u001b[0;34m.\u001b[0m\u001b[0mformat\u001b[0m\u001b[0;34m(\u001b[0m\u001b[0mhuevar\u001b[0m\u001b[0;34m)\u001b[0m\u001b[0;34m)\u001b[0m\u001b[0;34m\u001b[0m\u001b[0;34m\u001b[0m\u001b[0m\n",
      "\u001b[0;31mNameError\u001b[0m: name 'percentstandardize_barplot' is not defined"
     ]
    },
    {
     "data": {
      "image/png": "[encoded data removed]",
      "text/plain": [
       "<Figure size 1152x648 with 2 Axes>"
      ]
     },
     "metadata": {
      "needs_background": "light"
     },
     "output_type": "display_data"
    }
   ],
   "source": [
    "# Normalize Plots for Sentiment Distribution\n",
    "\n",
    "import seaborn as sns\n",
    "huevar = 'Recommendation'\n",
    "xvar = 'Sentiment'\n",
    "f, axes = plt.subplots(1, 2, figsize=(16, 9))\n",
    "sns.countplot(x=xvar, hue=huevar,data=df, ax=axes[0], order=['Negative', 'Neutral', 'Positive'])\n",
    "axes[0].set_title('Occurence of {}\\nby {}'.format(xvar, huevar))\n",
    "axes[0].set_ylabel('Count')\n",
    "percentstandardize_barplot(x=xvar, y='Percentage', hue=huevar, data=df, ax=axes[1])\n",
    "axes[1].set_title('Percentage Normalized Occurence of {}\\nby {}'.format(xvar, huevar))\n",
    "axes[1].set_ylabel('% Percentage by {}'.format(huevar))\n",
    "plt.savefig('norm-sentimentdist.png', format='png', dpi=300)\n",
    "plt.show()"
   ]
  },
  {
   "cell_type": "markdown",
   "metadata": {},
   "source": [
    "I'll categorise the Age into separate bins (10-20], (20-30] etc, because based on the ratings and sentiments of each age group, the company can tailor its marketing strategies accordingly or provide a more unique shopping experience for each age group, assuming that women in the same age group tend to share some similarities."
   ]
  },
  {
   "cell_type": "code",
   "execution_count": 27,
   "metadata": {},
   "outputs": [
    {
     "data": {
      "text/html": [
       "<div>\n",
       "<style scoped>\n",
       "    .dataframe tbody tr th:only-of-type {\n",
       "        vertical-align: middle;\n",
       "    }\n",
       "\n",
       "    .dataframe tbody tr th {\n",
       "        vertical-align: top;\n",
       "    }\n",
       "\n",
       "    .dataframe thead th {\n",
       "        text-align: right;\n",
       "    }\n",
       "</style>\n",
       "<table border=\"1\" class=\"dataframe\">\n",
       "  <thead>\n",
       "    <tr style=\"text-align: right;\">\n",
       "      <th></th>\n",
       "      <th>Clothing ID</th>\n",
       "      <th>Age</th>\n",
       "      <th>Title</th>\n",
       "      <th>Review Text</th>\n",
       "      <th>Rating</th>\n",
       "      <th>Recommendation</th>\n",
       "      <th>Positive Feedback Count</th>\n",
       "      <th>Division Name</th>\n",
       "      <th>Product Category</th>\n",
       "      <th>clothes type</th>\n",
       "      <th>reviews</th>\n",
       "      <th>Polarity Score</th>\n",
       "      <th>Neutral Score</th>\n",
       "      <th>Negative Score</th>\n",
       "      <th>Positive Score</th>\n",
       "      <th>Sentiment</th>\n",
       "      <th>Age group</th>\n",
       "    </tr>\n",
       "  </thead>\n",
       "  <tbody>\n",
       "    <tr>\n",
       "      <th>0</th>\n",
       "      <td>767</td>\n",
       "      <td>33</td>\n",
       "      <td>Love it!</td>\n",
       "      <td>Absolutely wonderful - silky and sexy and comf...</td>\n",
       "      <td>4</td>\n",
       "      <td>1</td>\n",
       "      <td>0</td>\n",
       "      <td>Initmates</td>\n",
       "      <td>Intimate</td>\n",
       "      <td>Intimates</td>\n",
       "      <td>Love it! - Absolutely wonderful - silky and se...</td>\n",
       "      <td>0.9450</td>\n",
       "      <td>0.248</td>\n",
       "      <td>0.000</td>\n",
       "      <td>0.752</td>\n",
       "      <td>Positive</td>\n",
       "      <td>(30, 40]</td>\n",
       "    </tr>\n",
       "    <tr>\n",
       "      <th>1</th>\n",
       "      <td>1080</td>\n",
       "      <td>34</td>\n",
       "      <td>Love it!</td>\n",
       "      <td>Love this dress!  it's sooo pretty.  i happene...</td>\n",
       "      <td>5</td>\n",
       "      <td>1</td>\n",
       "      <td>4</td>\n",
       "      <td>General</td>\n",
       "      <td>Dresses</td>\n",
       "      <td>Dresses</td>\n",
       "      <td>Love it! - Love this dress!  it's sooo pretty....</td>\n",
       "      <td>0.9814</td>\n",
       "      <td>0.628</td>\n",
       "      <td>0.000</td>\n",
       "      <td>0.372</td>\n",
       "      <td>Positive</td>\n",
       "      <td>(30, 40]</td>\n",
       "    </tr>\n",
       "    <tr>\n",
       "      <th>2</th>\n",
       "      <td>1077</td>\n",
       "      <td>60</td>\n",
       "      <td>Some major design flaws</td>\n",
       "      <td>I had such high hopes for this dress and reall...</td>\n",
       "      <td>3</td>\n",
       "      <td>0</td>\n",
       "      <td>0</td>\n",
       "      <td>General</td>\n",
       "      <td>Dresses</td>\n",
       "      <td>Dresses</td>\n",
       "      <td>Some major design flaws - I had such high hope...</td>\n",
       "      <td>0.9427</td>\n",
       "      <td>0.800</td>\n",
       "      <td>0.026</td>\n",
       "      <td>0.174</td>\n",
       "      <td>Positive</td>\n",
       "      <td>(50, 60]</td>\n",
       "    </tr>\n",
       "    <tr>\n",
       "      <th>3</th>\n",
       "      <td>1049</td>\n",
       "      <td>50</td>\n",
       "      <td>My favorite buy!</td>\n",
       "      <td>I love, love, love this jumpsuit. it's fun, fl...</td>\n",
       "      <td>5</td>\n",
       "      <td>1</td>\n",
       "      <td>0</td>\n",
       "      <td>General Petite</td>\n",
       "      <td>Bottoms</td>\n",
       "      <td>Pants</td>\n",
       "      <td>My favorite buy! - I love, love, love this jum...</td>\n",
       "      <td>0.7182</td>\n",
       "      <td>0.355</td>\n",
       "      <td>0.200</td>\n",
       "      <td>0.445</td>\n",
       "      <td>Positive</td>\n",
       "      <td>(40, 50]</td>\n",
       "    </tr>\n",
       "    <tr>\n",
       "      <th>4</th>\n",
       "      <td>847</td>\n",
       "      <td>47</td>\n",
       "      <td>Flattering shirt</td>\n",
       "      <td>This shirt is very flattering to all due to th...</td>\n",
       "      <td>5</td>\n",
       "      <td>1</td>\n",
       "      <td>6</td>\n",
       "      <td>General</td>\n",
       "      <td>Tops</td>\n",
       "      <td>Blouses</td>\n",
       "      <td>Flattering shirt - This shirt is very flatteri...</td>\n",
       "      <td>0.9436</td>\n",
       "      <td>0.673</td>\n",
       "      <td>0.000</td>\n",
       "      <td>0.327</td>\n",
       "      <td>Positive</td>\n",
       "      <td>(40, 50]</td>\n",
       "    </tr>\n",
       "  </tbody>\n",
       "</table>\n",
       "</div>"
      ],
      "text/plain": [
       "   Clothing ID  Age                    Title  \\\n",
       "0          767   33                 Love it!   \n",
       "1         1080   34                 Love it!   \n",
       "2         1077   60  Some major design flaws   \n",
       "3         1049   50         My favorite buy!   \n",
       "4          847   47         Flattering shirt   \n",
       "\n",
       "                                         Review Text  Rating  Recommendation  \\\n",
       "0  Absolutely wonderful - silky and sexy and comf...       4               1   \n",
       "1  Love this dress!  it's sooo pretty.  i happene...       5               1   \n",
       "2  I had such high hopes for this dress and reall...       3               0   \n",
       "3  I love, love, love this jumpsuit. it's fun, fl...       5               1   \n",
       "4  This shirt is very flattering to all due to th...       5               1   \n",
       "\n",
       "   Positive Feedback Count   Division Name Product Category clothes type  \\\n",
       "0                        0       Initmates         Intimate    Intimates   \n",
       "1                        4         General          Dresses      Dresses   \n",
       "2                        0         General          Dresses      Dresses   \n",
       "3                        0  General Petite          Bottoms        Pants   \n",
       "4                        6         General             Tops      Blouses   \n",
       "\n",
       "                                             reviews  Polarity Score  \\\n",
       "0  Love it! - Absolutely wonderful - silky and se...          0.9450   \n",
       "1  Love it! - Love this dress!  it's sooo pretty....          0.9814   \n",
       "2  Some major design flaws - I had such high hope...          0.9427   \n",
       "3  My favorite buy! - I love, love, love this jum...          0.7182   \n",
       "4  Flattering shirt - This shirt is very flatteri...          0.9436   \n",
       "\n",
       "   Neutral Score  Negative Score  Positive Score Sentiment Age group  \n",
       "0          0.248           0.000           0.752  Positive  (30, 40]  \n",
       "1          0.628           0.000           0.372  Positive  (30, 40]  \n",
       "2          0.800           0.026           0.174  Positive  (50, 60]  \n",
       "3          0.355           0.200           0.445  Positive  (40, 50]  \n",
       "4          0.673           0.000           0.327  Positive  (40, 50]  "
      ]
     },
     "execution_count": 27,
     "metadata": {},
     "output_type": "execute_result"
    }
   ],
   "source": [
    "bins = np.arange(0,100,10)\n",
    "df['Age group'] = pd.cut(df['Age'], bins)\n",
    "df.head()"
   ]
  },
  {
   "cell_type": "code",
   "execution_count": 29,
   "metadata": {},
   "outputs": [],
   "source": [
    "# let's check the rate of recommendations:\n",
    "recommended = df[df['Recommendation']==1]\n",
    "not_recommended = df[df['Recommendation']==0]"
   ]
  },
  {
   "cell_type": "code",
   "execution_count": 30,
   "metadata": {
    "scrolled": true
   },
   "outputs": [
    {
     "data": {
      "image/png": "[encoded data removed]",
      "text/plain": [
       "<Figure size 1008x1008 with 3 Axes>"
      ]
     },
     "metadata": {
      "needs_background": "light"
     },
     "output_type": "display_data"
    }
   ],
   "source": [
    "fig = plt.figure(figsize=(14, 14))\n",
    "ax1 = plt.subplot2grid((2, 2), (0, 0))\n",
    "ax1 = sns.countplot(recommended['Division Name'], color = \"blue\", alpha = 0.8, label = \"Recommended\")\n",
    "ax1 = sns.countplot(not_recommended['Division Name'], color = \"red\", alpha = 0.8, label = \"Not Recommended\")\n",
    "ax1 = plt.title(\"Recommended Items in each Division\")\n",
    "ax1 = plt.legend()\n",
    "\n",
    "ax2 = plt.subplot2grid((2, 2), (0, 1))\n",
    "ax2 = sns.countplot(recommended['Product Category'], color=\"yellow\", alpha = 0.8, label = \"Recommended\")\n",
    "ax2 = sns.countplot(not_recommended['Product Category'], color=\"purple\", alpha = 0.8, label = \"Not Recommended\")\n",
    "ax2 = plt.title(\"Recommended Items in each Category\")\n",
    "ax2 = plt.legend()\n",
    "\n",
    "ax3 = plt.subplot2grid((2, 2), (1, 0), colspan=2)\n",
    "ax3 = plt.xticks(rotation=45)\n",
    "ax3 = sns.countplot(recommended['clothes type'], color=\"green\", alpha = 0.8, label = \"Recommended\")\n",
    "ax3 = sns.countplot(not_recommended['clothes type'], color=\"blue\", alpha = 0.8, label = \"Not Recommended\")\n",
    "ax3 = plt.title(\"Recommended Items in each clothes type\")\n",
    "ax3 = plt.legend()"
   ]
  },
  {
   "cell_type": "markdown",
   "metadata": {},
   "source": [
    "It is obvious that every thing related to Dresses category and dresses type need to be reconsidered, it has the highest Not Recommended percentage."
   ]
  },
  {
   "cell_type": "code",
   "execution_count": null,
   "metadata": {},
   "outputs": [],
   "source": []
  },
  {
   "cell_type": "code",
   "execution_count": null,
   "metadata": {},
   "outputs": [],
   "source": []
  }
 ],
 "metadata": {
  "kernelspec": {
   "display_name": "Python 3",
   "language": "python",
   "name": "python3"
  },
  "language_info": {
   "codemirror_mode": {
    "name": "ipython",
    "version": 3
   },
   "file_extension": ".py",
   "mimetype": "text/x-python",
   "name": "python",
   "nbconvert_exporter": "python",
   "pygments_lexer": "ipython3",
   "version": "3.6.7"
  }
 },
 "nbformat": 4,
 "nbformat_minor": 2
}
