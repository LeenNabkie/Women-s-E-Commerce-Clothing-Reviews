{
 "cells": [
  {
   "cell_type": "markdown",
   "metadata": {},
   "source": [
    "# Data Wrangling and Cleaning\n",
    "\n",
    "1.1 Importing the library "
   ]
  },
  {
   "cell_type": "code",
   "execution_count": 1,
   "metadata": {},
   "outputs": [],
   "source": [
    "import pandas as pd\n",
    "import numpy as np\n",
    "import nltk\n",
    "import random\n",
    "import os\n",
    "from os import path"
   ]
  },
  {
   "cell_type": "code",
   "execution_count": 2,
   "metadata": {},
   "outputs": [],
   "source": [
    "# 1.2 Load the dataset\n",
    "df = pd.read_csv(\"../data/womens-ecommerce-clothing-reviews.zip\")"
   ]
  },
  {
   "cell_type": "markdown",
   "metadata": {},
   "source": [
    "• 2. Minor tasks"
   ]
  },
  {
   "cell_type": "code",
   "execution_count": 3,
   "metadata": {
    "scrolled": true
   },
   "outputs": [
    {
     "name": "stdout",
     "output_type": "stream",
     "text": [
      "Index(['Unnamed: 0', 'Clothing ID', 'Age', 'Title', 'Review Text', 'Rating',\n",
      "       'Recommended IND', 'Positive Feedback Count', 'Division Name',\n",
      "       'Department Name', 'Class Name'],\n",
      "      dtype='object')\n",
      "   Unnamed: 0  Clothing ID  Age                    Title  \\\n",
      "0           0          767   33                      NaN   \n",
      "1           1         1080   34                      NaN   \n",
      "2           2         1077   60  Some major design flaws   \n",
      "3           3         1049   50         My favorite buy!   \n",
      "4           4          847   47         Flattering shirt   \n",
      "\n",
      "                                         Review Text  Rating  Recommended IND  \\\n",
      "0  Absolutely wonderful - silky and sexy and comf...       4                1   \n",
      "1  Love this dress!  it's sooo pretty.  i happene...       5                1   \n",
      "2  I had such high hopes for this dress and reall...       3                0   \n",
      "3  I love, love, love this jumpsuit. it's fun, fl...       5                1   \n",
      "4  This shirt is very flattering to all due to th...       5                1   \n",
      "\n",
      "   Positive Feedback Count   Division Name Department Name Class Name  \n",
      "0                        0       Initmates        Intimate  Intimates  \n",
      "1                        4         General         Dresses    Dresses  \n",
      "2                        0         General         Dresses    Dresses  \n",
      "3                        0  General Petite         Bottoms      Pants  \n",
      "4                        6         General            Tops    Blouses  \n",
      "         Unnamed: 0   Clothing ID           Age        Rating  \\\n",
      "count  23486.000000  23486.000000  23486.000000  23486.000000   \n",
      "mean   11742.500000    918.118709     43.198544      4.196032   \n",
      "std     6779.968547    203.298980     12.279544      1.110031   \n",
      "min        0.000000      0.000000     18.000000      1.000000   \n",
      "25%     5871.250000    861.000000     34.000000      4.000000   \n",
      "50%    11742.500000    936.000000     41.000000      5.000000   \n",
      "75%    17613.750000   1078.000000     52.000000      5.000000   \n",
      "max    23485.000000   1205.000000     99.000000      5.000000   \n",
      "\n",
      "       Recommended IND  Positive Feedback Count  \n",
      "count     23486.000000             23486.000000  \n",
      "mean          0.822362                 2.535936  \n",
      "std           0.382216                 5.702202  \n",
      "min           0.000000                 0.000000  \n",
      "25%           1.000000                 0.000000  \n",
      "50%           1.000000                 1.000000  \n",
      "75%           1.000000                 3.000000  \n",
      "max           1.000000               122.000000  \n",
      "\n"
     ]
    }
   ],
   "source": [
    "# 2.1 Summarizing my first data for inspection\n",
    "print(df.columns)\n",
    "print(df.head())\n",
    "print(df.describe())\n",
    "print('')"
   ]
  },
  {
   "cell_type": "code",
   "execution_count": 4,
   "metadata": {},
   "outputs": [
    {
     "name": "stdout",
     "output_type": "stream",
     "text": [
      "<class 'pandas.core.frame.DataFrame'>\n",
      "RangeIndex: 23486 entries, 0 to 23485\n",
      "Data columns (total 11 columns):\n",
      "Unnamed: 0                 23486 non-null int64\n",
      "Clothing ID                23486 non-null int64\n",
      "Age                        23486 non-null int64\n",
      "Title                      19676 non-null object\n",
      "Review Text                22641 non-null object\n",
      "Rating                     23486 non-null int64\n",
      "Recommended IND            23486 non-null int64\n",
      "Positive Feedback Count    23486 non-null int64\n",
      "Division Name              23472 non-null object\n",
      "Department Name            23472 non-null object\n",
      "Class Name                 23472 non-null object\n",
      "dtypes: int64(6), object(5)\n",
      "memory usage: 2.0+ MB\n"
     ]
    }
   ],
   "source": [
    "df.info()"
   ]
  },
  {
   "cell_type": "code",
   "execution_count": 5,
   "metadata": {},
   "outputs": [
    {
     "name": "stdout",
     "output_type": "stream",
     "text": [
      "Index(['Unnamed: 0', 'Clothing ID', 'Age', 'Title', 'Review Text', 'Rating',\n",
      "       'Recommendation', 'Positive Feedback Count', 'Division Name',\n",
      "       'Product Category', 'clothes type'],\n",
      "      dtype='object')\n"
     ]
    }
   ],
   "source": [
    "# 2.2 Fixing column name\n",
    "df.rename(columns={'Recommended IND': 'Recommendation','Department Name': 'Product Category', 'Class Name':'clothes type'}, inplace=True)\n",
    " \n",
    "print(df.columns)"
   ]
  },
  {
   "cell_type": "code",
   "execution_count": 6,
   "metadata": {},
   "outputs": [],
   "source": [
    "# 2.3 Removing the unused columns\n",
    "df.drop(df.columns[0],inplace=True, axis=1)"
   ]
  },
  {
   "cell_type": "code",
   "execution_count": 7,
   "metadata": {},
   "outputs": [],
   "source": [
    "# 2.4 Converting data types: not applicaple\n",
    "# 2.5 Removing duplicates: not applicaple"
   ]
  },
  {
   "cell_type": "markdown",
   "metadata": {},
   "source": [
    "• 3. Major tasks"
   ]
  },
  {
   "cell_type": "markdown",
   "metadata": {},
   "source": [
    "◦ 3.1 Dealing with missing values"
   ]
  },
  {
   "cell_type": "code",
   "execution_count": 8,
   "metadata": {
    "scrolled": true
   },
   "outputs": [
    {
     "data": {
      "text/plain": [
       "Clothing ID                   0\n",
       "Age                           0\n",
       "Title                      3810\n",
       "Review Text                 845\n",
       "Rating                        0\n",
       "Recommendation                0\n",
       "Positive Feedback Count       0\n",
       "Division Name                14\n",
       "Product Category             14\n",
       "clothes type                 14\n",
       "dtype: int64"
      ]
     },
     "execution_count": 8,
     "metadata": {},
     "output_type": "execute_result"
    }
   ],
   "source": [
    "# check if there is missing values\n",
    "df.isnull().sum()"
   ]
  },
  {
   "cell_type": "markdown",
   "metadata": {},
   "source": [
    "This dataset has 23486 entries and 9 columns. Some of the entries are missing like Title, Review Text, Division Name, Product Category, and clothes types."
   ]
  },
  {
   "cell_type": "code",
   "execution_count": 9,
   "metadata": {},
   "outputs": [],
   "source": [
    "# Delete missing values from the following variables\n",
    "for x in [\"Review Text\",\"Division Name\",\"Product Category\",\"clothes type\"]:\n",
    "    df = df[df[x].notnull()]"
   ]
  },
  {
   "cell_type": "code",
   "execution_count": 10,
   "metadata": {},
   "outputs": [],
   "source": [
    "# Or I can deal with those missing values since the missing value percentage is less in variables, we are replacing it with mean and mode.\n",
    "for column in df.columns:\n",
    "    df[column].fillna(df[column].mode()[0], inplace=True)"
   ]
  },
  {
   "cell_type": "code",
   "execution_count": 11,
   "metadata": {},
   "outputs": [
    {
     "name": "stdout",
     "output_type": "stream",
     "text": [
      "39    1225\n",
      "35     851\n",
      "36     799\n",
      "34     765\n",
      "38     751\n",
      "37     726\n",
      "41     717\n",
      "33     698\n",
      "46     691\n",
      "42     625\n",
      "48     605\n",
      "44     596\n",
      "32     594\n",
      "40     584\n",
      "43     554\n",
      "31     549\n",
      "47     544\n",
      "53     536\n",
      "45     511\n",
      "29     503\n",
      "49     473\n",
      "56     462\n",
      "52     421\n",
      "26     413\n",
      "28     406\n",
      "54     390\n",
      "51     385\n",
      "50     384\n",
      "30     382\n",
      "57     350\n",
      "      ... \n",
      "69     112\n",
      "20     105\n",
      "21      98\n",
      "70      88\n",
      "74      50\n",
      "71      49\n",
      "72      45\n",
      "83      43\n",
      "73      40\n",
      "19      40\n",
      "75      25\n",
      "77      18\n",
      "79      15\n",
      "78      15\n",
      "82      13\n",
      "80      10\n",
      "76      10\n",
      "85       6\n",
      "84       6\n",
      "81       5\n",
      "89       5\n",
      "18       4\n",
      "87       4\n",
      "91       4\n",
      "94       3\n",
      "93       2\n",
      "90       2\n",
      "86       2\n",
      "99       2\n",
      "92       1\n",
      "Name: Age, Length: 77, dtype: int64\n",
      "mean 43.282879618172174\n",
      "std 12.327903678330044\n"
     ]
    },
    {
     "data": {
      "text/plain": [
       "<Figure size 640x480 with 1 Axes>"
      ]
     },
     "metadata": {},
     "output_type": "display_data"
    }
   ],
   "source": [
    "# 3.2 Dealing with Outliers\n",
    "# Age:\n",
    "import matplotlib.pyplot as plt\n",
    "print(df['Age'].value_counts())\n",
    "print('mean', np.mean(df['Age']))\n",
    "print('std', np.std(df['Age']))\n",
    "plt.hist(df['Age'], bins=20)\n",
    "plt.show()"
   ]
  },
  {
   "cell_type": "code",
   "execution_count": 12,
   "metadata": {},
   "outputs": [],
   "source": [
    "# all age after 75 are considered outliers, but I don't know how to remove them...sorry"
   ]
  },
  {
   "cell_type": "markdown",
   "metadata": {},
   "source": [
    "For cleaning the text: First, I will concatenate the Title and the Review Text together, after that I will get the list of most popular words, then I will apply some text pre-processing techniques like \n",
    "    Make text all lower case\n",
    "    Remove punctuation\n",
    "    Remove spaces at the begenning and at the end\n",
    "    Tokenize text\n",
    "    Remove stop words\n",
    "    Stemming\n",
    "    Lemmatization"
   ]
  },
  {
   "cell_type": "code",
   "execution_count": 13,
   "metadata": {},
   "outputs": [
    {
     "data": {
      "text/plain": [
       "\"Dress looks like it's made of cheap material - Dress runs small esp where the zipper area runs. i ordered the sp which typically fits me and it was very tight! the material on the top looks and feels very cheap that even just pulling on it will cause it to rip the fabric. pretty disappointed as it was going to be my christmas dress this year! needless to say it will be going back.\""
      ]
     },
     "execution_count": 13,
     "metadata": {},
     "output_type": "execute_result"
    }
   ],
   "source": [
    "# concatenate the Title and the Review Text\n",
    "df['reviews'] = df['Title'] + ' - ' + df['Review Text']\n",
    "corpus = list(df['reviews'].values)\n",
    "reviews = corpus.copy()\n",
    "reviews[10]"
   ]
  },
  {
   "cell_type": "code",
   "execution_count": 14,
   "metadata": {
    "scrolled": true
   },
   "outputs": [
    {
     "name": "stdout",
     "output_type": "stream",
     "text": [
      "[('.', 89618), ('the', 75813), ('i', 57715), ('it', 52548), ('and', 50736), (',', 50218), ('a', 43418), ('is', 31466), ('-', 25516), ('to', 24978), ('!', 22436), ('this', 22176), ('in', 21089), ('but', 18042), ('on', 15501), ('for', 15026), ('of', 13683), ('with', 13081), ('was', 12952), ('dress', 12067), ('so', 11951), ('my', 11061), ('not', 10380), ('that', 10049), ('I', 9604), ('size', 8834), ('top', 8491), (\"n't\", 8435), ('love', 8385), ('have', 8307)]\n"
     ]
    },
    {
     "data": {
      "image/png": "[encoded data removed]",
      "text/plain": [
       "<Figure size 432x288 with 1 Axes>"
      ]
     },
     "metadata": {
      "needs_background": "light"
     },
     "output_type": "display_data"
    }
   ],
   "source": [
    "# get the list of most popular words\n",
    "# But before that I have to import the regular expression library and many others\n",
    "import re\n",
    "import itertools\n",
    "import string\n",
    "\n",
    "import nltk\n",
    "from nltk.tokenize import RegexpTokenizer\n",
    "from nltk.tokenize import word_tokenize\n",
    "from nltk.corpus import stopwords\n",
    "from nltk.stem import PorterStemmer\n",
    "from nltk.probability import FreqDist\n",
    "\n",
    "\n",
    "\n",
    "reviews_chart = reviews.copy()\n",
    "for i in range(len(reviews_chart)):\n",
    "    reviews_chart[i] = word_tokenize(reviews_chart[i])\n",
    "    \n",
    "# merge a list of lists\n",
    "all_reviews = list(itertools.chain.from_iterable(reviews_chart))\n",
    "\n",
    "# frequency distribution\n",
    "fdist = FreqDist(all_reviews)\n",
    "print(fdist.most_common(30))\n",
    "\n",
    "# Frequency Distribution Plot\n",
    "import matplotlib.pyplot as plt\n",
    "fdist.plot(30,cumulative=False)\n",
    "plt.show()"
   ]
  },
  {
   "cell_type": "markdown",
   "metadata": {},
   "source": [
    "Unfortunatly, all the common words I've gotten are nonmeaningfull, so that I will Apply a first round of text cleaning techniques\n"
   ]
  },
  {
   "cell_type": "code",
   "execution_count": 15,
   "metadata": {},
   "outputs": [],
   "source": [
    "# prepare text data\n",
    "\n",
    "# firstly, I concatenate all review text in to a string and also lower all of them. They are separated by ' '\n",
    "all_words = df['reviews'].str.lower().str.cat(sep = ' ')\n",
    "\n",
    "# removes punctuation, numbers and returns list of words\n",
    "all_words = re.sub('[^A-Za-z]+', ' ', all_words)\n",
    "\n",
    "# remove all stopwords and numeric from the text\n",
    "stop_words = set(stopwords.words('english'))\n",
    "tokens = nltk.word_tokenize(all_words)\n",
    "no_stop_words = []\n",
    "for w in tokens:\n",
    "    if (w not in stop_words) and (w.isdigit() is False):\n",
    "        no_stop_words.append(w)"
   ]
  },
  {
   "cell_type": "code",
   "execution_count": 16,
   "metadata": {},
   "outputs": [
    {
     "name": "stderr",
     "output_type": "stream",
     "text": [
      "IOPub data rate exceeded.\n",
      "The notebook server will temporarily stop sending output\n",
      "to the client in order to avoid crashing it.\n",
      "To change this limit, set the config variable\n",
      "`--NotebookApp.iopub_data_rate_limit`.\n",
      "\n",
      "Current values:\n",
      "NotebookApp.iopub_data_rate_limit=1000000.0 (bytes/sec)\n",
      "NotebookApp.rate_limit_window=3.0 (secs)\n",
      "\n"
     ]
    }
   ],
   "source": [
    "# Stemming\n",
    "from nltk.stem import PorterStemmer\n",
    "\n",
    "stemmer = PorterStemmer()\n",
    "\n",
    "for i in range(5):\n",
    "    stemmed_words=[]\n",
    "    for word in no_stop_words:\n",
    "        stemmed_words.append(stemmer.stem(word))\n",
    "\n",
    "    print('Original senstence:', no_stop_words)\n",
    "    print('Stemmed sentence:', stemmed_words)"
   ]
  },
  {
   "cell_type": "code",
   "execution_count": 17,
   "metadata": {
    "scrolled": true
   },
   "outputs": [
    {
     "name": "stdout",
     "output_type": "stream",
     "text": [
      "[('love', 16783), ('dress', 13862), ('fit', 12243), ('size', 11042), ('look', 9620), ('top', 9559), ('wear', 8209), ('like', 8123), ('great', 7907), ('color', 7791), ('fabric', 5182), ('would', 5133), ('small', 5090), ('order', 5053), ('beauti', 4978), ('perfect', 4725), ('cute', 4602), ('nice', 4362), ('flatter', 4198), ('realli', 4074), ('littl', 3928), ('one', 3856), ('comfort', 3842), ('soft', 3838), ('tri', 3662), ('well', 3492), ('shirt', 3457), ('back', 3341), ('run', 3317), ('sweater', 3187)]\n"
     ]
    },
    {
     "data": {
      "image/png": "[encoded data removed]",
      "text/plain": [
       "<Figure size 432x288 with 1 Axes>"
      ]
     },
     "metadata": {
      "needs_background": "light"
     },
     "output_type": "display_data"
    }
   ],
   "source": [
    "# After cleaning the text, I will rereview the chart to take a look on what I get\n",
    "reviews_chart = stemmed_words.copy()\n",
    "for i in range(len(reviews_chart)):\n",
    "    reviews_chart[i] = word_tokenize(reviews_chart[i])\n",
    "    \n",
    "# merge a list of lists\n",
    "all_reviews = list(itertools.chain.from_iterable(reviews_chart))\n",
    "\n",
    "# frequency distribution\n",
    "fdist = FreqDist(all_reviews)\n",
    "print(fdist.most_common(30))\n",
    "\n",
    "# Frequency Distribution Plot\n",
    "import matplotlib.pyplot as plt\n",
    "fdist.plot(30,cumulative=False)\n",
    "plt.show()"
   ]
  },
  {
   "cell_type": "code",
   "execution_count": 18,
   "metadata": {
    "scrolled": true
   },
   "outputs": [
    {
     "name": "stdout",
     "output_type": "stream",
     "text": [
      "<class 'pandas.core.frame.DataFrame'>\n",
      "Int64Index: 22628 entries, 0 to 23485\n",
      "Data columns (total 11 columns):\n",
      "Clothing ID                22628 non-null int64\n",
      "Age                        22628 non-null int64\n",
      "Title                      22628 non-null object\n",
      "Review Text                22628 non-null object\n",
      "Rating                     22628 non-null int64\n",
      "Recommendation             22628 non-null int64\n",
      "Positive Feedback Count    22628 non-null int64\n",
      "Division Name              22628 non-null object\n",
      "Product Category           22628 non-null object\n",
      "clothes type               22628 non-null object\n",
      "reviews                    22628 non-null object\n",
      "dtypes: int64(5), object(6)\n",
      "memory usage: 2.1+ MB\n"
     ]
    }
   ],
   "source": [
    "df.info()"
   ]
  },
  {
   "cell_type": "code",
   "execution_count": 19,
   "metadata": {},
   "outputs": [],
   "source": [
    "# Saving the processed file\n",
    "df.to_csv('../data/Cleaned-womens-ecommerce-clothing-reviews.csv', index=False)"
   ]
  }
 ],
 "metadata": {
  "kernelspec": {
   "display_name": "Python 3",
   "language": "python",
   "name": "python3"
  },
  "language_info": {
   "codemirror_mode": {
    "name": "ipython",
    "version": 3
   },
   "file_extension": ".py",
   "mimetype": "text/x-python",
   "name": "python",
   "nbconvert_exporter": "python",
   "pygments_lexer": "ipython3",
   "version": "3.6.7"
  }
 },
 "nbformat": 4,
 "nbformat_minor": 2
}
